{
  "nbformat": 4,
  "nbformat_minor": 0,
  "metadata": {
    "colab": {
      "name": "Statistics.ipynb",
      "provenance": [],
      "authorship_tag": "ABX9TyPCCGvVXdtzZPQxz/or9Ad8",
      "include_colab_link": true
    },
    "kernelspec": {
      "name": "python3",
      "display_name": "Python 3"
    },
    "language_info": {
      "name": "python"
    }
  },
  "cells": [
    {
      "cell_type": "markdown",
      "metadata": {
        "id": "view-in-github",
        "colab_type": "text"
      },
      "source": [
        "<a href=\"https://colab.research.google.com/github/DevikaSatyan/Software-Fault-classification-using-NN/blob/main/Statistics.ipynb\" target=\"_parent\"><img src=\"https://colab.research.google.com/assets/colab-badge.svg\" alt=\"Open In Colab\"/></a>"
      ]
    },
    {
      "cell_type": "markdown",
      "metadata": {
        "id": "ieCJqnSndbou"
      },
      "source": [
        "#Statistics\n",
        "\n"
      ]
    },
    {
      "cell_type": "code",
      "metadata": {
        "id": "3zqc0HZhdDsb"
      },
      "source": [
        "import statistics as s\n"
      ],
      "execution_count": null,
      "outputs": []
    },
    {
      "cell_type": "markdown",
      "metadata": {
        "id": "GbUTZkENel1y"
      },
      "source": [
        "MEAN"
      ]
    },
    {
      "cell_type": "code",
      "metadata": {
        "colab": {
          "base_uri": "https://localhost:8080/"
        },
        "id": "z9Q4WLPOekrw",
        "outputId": "1c5af1fc-c16a-4d02-d98a-2666830c4d4e"
      },
      "source": [
        "s.mean([1,2,3,4])"
      ],
      "execution_count": null,
      "outputs": [
        {
          "output_type": "execute_result",
          "data": {
            "text/plain": [
              "2.5"
            ]
          },
          "metadata": {
            "tags": []
          },
          "execution_count": 3
        }
      ]
    },
    {
      "cell_type": "markdown",
      "metadata": {
        "id": "97Xk1OzXfFN0"
      },
      "source": [
        "MEDIAN --- IT IGNORES OUTLIERS(it sorts numbers in ascending order and returns middle number)"
      ]
    },
    {
      "cell_type": "code",
      "metadata": {
        "colab": {
          "base_uri": "https://localhost:8080/"
        },
        "id": "_YFKlAYLe5fN",
        "outputId": "39ec2c9a-8817-4332-8e26-c03da3d2c449"
      },
      "source": [
        "s.median([1,2,4,3,50])#odd number of elements"
      ],
      "execution_count": null,
      "outputs": [
        {
          "output_type": "execute_result",
          "data": {
            "text/plain": [
              "3"
            ]
          },
          "metadata": {
            "tags": []
          },
          "execution_count": 4
        }
      ]
    },
    {
      "cell_type": "code",
      "metadata": {
        "colab": {
          "base_uri": "https://localhost:8080/"
        },
        "id": "xek3uXgLgFGl",
        "outputId": "e236a0fc-e89b-4cf3-e7c2-73c682036614"
      },
      "source": [
        "s.median([1,2,4,3,50,-1])#even number of elements"
      ],
      "execution_count": null,
      "outputs": [
        {
          "output_type": "execute_result",
          "data": {
            "text/plain": [
              "2.5"
            ]
          },
          "metadata": {
            "tags": []
          },
          "execution_count": 5
        }
      ]
    },
    {
      "cell_type": "code",
      "metadata": {
        "colab": {
          "base_uri": "https://localhost:8080/"
        },
        "id": "Lc5YZ2W1gQqk",
        "outputId": "ba9c147c-f242-4e5a-8f5b-732f62f22268"
      },
      "source": [
        "s.median_low([1,2,4,3,50,-1])#lower limit"
      ],
      "execution_count": null,
      "outputs": [
        {
          "output_type": "execute_result",
          "data": {
            "text/plain": [
              "2"
            ]
          },
          "metadata": {
            "tags": []
          },
          "execution_count": 6
        }
      ]
    },
    {
      "cell_type": "code",
      "metadata": {
        "colab": {
          "base_uri": "https://localhost:8080/"
        },
        "id": "CBRLX3X4g2cR",
        "outputId": "a43256bd-c1c4-4b75-ac19-894b4bf31700"
      },
      "source": [
        "s.median_high([1,2,4,3,50,-1])#higher limit"
      ],
      "execution_count": null,
      "outputs": [
        {
          "output_type": "execute_result",
          "data": {
            "text/plain": [
              "3"
            ]
          },
          "metadata": {
            "tags": []
          },
          "execution_count": 7
        }
      ]
    },
    {
      "cell_type": "markdown",
      "metadata": {
        "id": "QkhjRJp6tOnH"
      },
      "source": [
        "MODE---- returns most frequently occuring element"
      ]
    },
    {
      "cell_type": "code",
      "metadata": {
        "colab": {
          "base_uri": "https://localhost:8080/"
        },
        "id": "cIzFxgByg6n7",
        "outputId": "7f0c8842-a329-464d-8f0d-da3457576295"
      },
      "source": [
        "s.mode([1,2,1,3,3,4,4,4,5])#if more than 1 more occurs frequently, then error raises"
      ],
      "execution_count": null,
      "outputs": [
        {
          "output_type": "execute_result",
          "data": {
            "text/plain": [
              "4"
            ]
          },
          "metadata": {
            "tags": []
          },
          "execution_count": 10
        }
      ]
    },
    {
      "cell_type": "markdown",
      "metadata": {
        "id": "vBzSP0vItxC7"
      },
      "source": [
        "HARMONIC MEAN(  eg. a,b,c = n/((1/a)+(1/b)+(1/c)) )\n"
      ]
    },
    {
      "cell_type": "code",
      "metadata": {
        "colab": {
          "base_uri": "https://localhost:8080/"
        },
        "id": "4VOnrLJItjZG",
        "outputId": "1aad3bd6-b259-466d-928b-cc46376e4fc3"
      },
      "source": [
        "s.harmonic_mean([1,2,3])"
      ],
      "execution_count": null,
      "outputs": [
        {
          "output_type": "execute_result",
          "data": {
            "text/plain": [
              "1.6363636363636365"
            ]
          },
          "metadata": {
            "tags": []
          },
          "execution_count": 13
        }
      ]
    },
    {
      "cell_type": "markdown",
      "metadata": {
        "id": "9lUQQEw-4Ylo"
      },
      "source": [
        "STD DEVIATION-- measure of variation in data .....\n",
        "std_dev=sqrt(1/(n-1)(summation of i=1 to n) (xi-mean(x))^2)"
      ]
    },
    {
      "cell_type": "code",
      "metadata": {
        "colab": {
          "base_uri": "https://localhost:8080/"
        },
        "id": "In304kp0tXhv",
        "outputId": "0d913618-55bc-4a5a-fe23-adb81f71a949"
      },
      "source": [
        "s.stdev([1,2,3])"
      ],
      "execution_count": null,
      "outputs": [
        {
          "output_type": "execute_result",
          "data": {
            "text/plain": [
              "1.0"
            ]
          },
          "metadata": {
            "tags": []
          },
          "execution_count": 14
        }
      ]
    },
    {
      "cell_type": "markdown",
      "metadata": {
        "id": "9-SCMZpT5c6d"
      },
      "source": [
        "variance = (std_dev)^2"
      ]
    },
    {
      "cell_type": "code",
      "metadata": {
        "colab": {
          "base_uri": "https://localhost:8080/"
        },
        "id": "54iyAjN75cKx",
        "outputId": "e0887969-a2f2-481f-e4ac-236bb3b88c75"
      },
      "source": [
        "s.variance([1,2,3])"
      ],
      "execution_count": null,
      "outputs": [
        {
          "output_type": "execute_result",
          "data": {
            "text/plain": [
              "1"
            ]
          },
          "metadata": {
            "tags": []
          },
          "execution_count": 15
        }
      ]
    }
  ]
}